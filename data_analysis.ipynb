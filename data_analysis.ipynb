{
 "cells": [
  {
   "cell_type": "markdown",
   "id": "36c0e4d7",
   "metadata": {},
   "source": [
    "## Main questions of this project:\n",
    "    - Which state has the most expensive fuel?\n",
    "    - What is the variation in the average gasoline priece?\n",
    "    - Which region has the better ratio between average salary and average fuel price?\n",
    "    - Is there any period of time when fuel is more expensive?"
   ]
  },
  {
   "cell_type": "markdown",
   "id": "465b6fb4",
   "metadata": {},
   "source": [
    "#### FIRST: Make the db connection"
   ]
  },
  {
   "cell_type": "code",
   "execution_count": null,
   "id": "2e422c5b",
   "metadata": {
    "vscode": {
     "languageId": "plaintext"
    }
   },
   "outputs": [],
   "source": [
    "from dotenv import load_dotenv\n",
    "import os\n",
    "import psycopg2\n",
    "load_dotenv()\n",
    "\n",
    "conn = psycopg2.connect(\n",
    "        dbname=os.getenv(\"DB_NAME\"),\n",
    "        user=os.getenv(\"DB_USER\"),\n",
    "        password=os.getenv(\"DB_PASSWORD\"),\n",
    "        host=os.getenv(\"DB_HOST\"),\n",
    "        port=os.getenv(\"DB_PORT\")\n",
    "    )\n",
    "cursor = conn.cursor()"
   ]
  },
  {
   "cell_type": "markdown",
   "id": "05e926d6",
   "metadata": {},
   "source": [
    "## Average fuel priece\n",
    "\n",
    "### Gasoline\n",
    "\n"
   ]
  },
  {
   "cell_type": "code",
   "execution_count": null,
   "id": "19d2f1f8",
   "metadata": {
    "vscode": {
     "languageId": "plaintext"
    }
   },
   "outputs": [],
   "source": []
  },
  {
   "cell_type": "markdown",
   "id": "b47fbdca",
   "metadata": {},
   "source": [
    "### Etanol"
   ]
  },
  {
   "cell_type": "code",
   "execution_count": null,
   "id": "30418455",
   "metadata": {
    "vscode": {
     "languageId": "plaintext"
    }
   },
   "outputs": [],
   "source": []
  },
  {
   "cell_type": "markdown",
   "id": "9fbc0442",
   "metadata": {},
   "source": [
    "### Diesel"
   ]
  },
  {
   "cell_type": "code",
   "execution_count": null,
   "id": "cb4337d9",
   "metadata": {
    "vscode": {
     "languageId": "plaintext"
    }
   },
   "outputs": [],
   "source": []
  },
  {
   "cell_type": "markdown",
   "id": "8b28fe05",
   "metadata": {},
   "source": [
    "### GNV"
   ]
  },
  {
   "cell_type": "code",
   "execution_count": null,
   "id": "9059a227",
   "metadata": {
    "vscode": {
     "languageId": "plaintext"
    }
   },
   "outputs": [],
   "source": []
  }
 ],
 "metadata": {
  "kernelspec": {
   "display_name": "Python 3 (ipykernel)",
   "language": "python",
   "name": "python3"
  },
  "language_info": {
   "codemirror_mode": {
    "name": "ipython",
    "version": 3
   },
   "file_extension": ".py",
   "mimetype": "text/x-python",
   "name": "python",
   "nbconvert_exporter": "python",
   "pygments_lexer": "ipython3",
   "version": "3.12.2"
  }
 },
 "nbformat": 4,
 "nbformat_minor": 5
}
